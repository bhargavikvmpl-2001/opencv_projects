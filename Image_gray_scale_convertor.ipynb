{
 "cells": [
  {
   "cell_type": "code",
   "execution_count": 19,
   "id": "f3723e82-832f-47fc-96ca-997d658ec4de",
   "metadata": {},
   "outputs": [
    {
     "name": "stdout",
     "output_type": "stream",
     "text": [
      "Requirement already satisfied: opencv-python in e:\\anaconda1\\lib\\site-packages (4.11.0.86)\n",
      "Requirement already satisfied: numpy>=1.21.2 in e:\\anaconda1\\lib\\site-packages (from opencv-python) (1.26.3)\n"
     ]
    }
   ],
   "source": [
    "import os\n",
    "os.sys.path\n",
    "!pip install opencv-python\n",
    "import cv2\n",
    "import numpy as np\n",
    "from tkinter import Tk, filedialog, Button , Label\n",
    "from tkinter import N, S, E, W\n",
    "from PIL import Image, ImageTk"
   ]
  },
  {
   "cell_type": "code",
   "execution_count": 20,
   "id": "bb012cd6-51b1-4fb6-ba06-af7d6c017e37",
   "metadata": {},
   "outputs": [],
   "source": [
    "def open_file():\n",
    "  file_path = filedialog.askopenfilename(filetypes=[(\"Image files\", \"*.jpg *.jpeg *.png *.bmp *.tiff\")])\n",
    "  if file_path:\n",
    "    convert_to_grayscale(file_path)\n",
    "    "
   ]
  },
  {
   "cell_type": "code",
   "execution_count": 21,
   "id": "dc79791b-66e7-4696-b604-ded3164c5f81",
   "metadata": {},
   "outputs": [],
   "source": [
    "def convert_to_grayscale(image_path):\n",
    "  image = cv2.imread(image_path)\n",
    "  if image is None:\n",
    "    print(\"Error: Unable to read the image.\")\n",
    "    return\n",
    "  gray_image = cv2.cvtColor(image, cv2.COLOR_BGR2GRAY)\n",
    "  cv2.imshow(\"Grayscale Image\", gray_image)\n",
    "  cv2.waitKey(0)\n",
    "  cv2.destroyAllWindows()"
   ]
  },
  {
   "cell_type": "code",
   "execution_count": 22,
   "id": "56d234dd-2840-47e2-aba4-49529b512c50",
   "metadata": {},
   "outputs": [],
   "source": [
    "from textwrap import wrap\n",
    "def setup_ui(root):\n",
    "  root.title(\"Image Grayscale Converter\")\n",
    "  root.geometry(\"300x150\")\n",
    "  root.resizable(False,False)\n",
    "  root.columnconfigure(0,weight=1)\n",
    "  root.rowconfigure(0,weight =1)\n",
    "\n",
    "  label = Label(root,text=\"Select an Image to convert to grayscale\", wraplength=250)\n",
    "  label.grid(row=0, column=0, padx=10, pady=10, sticky=N)\n",
    "\n",
    "  open_button = Button(root, text=\"Open Image\", command=open_file)\n",
    "  open_button.grid(row=1, column=0, padx=10, pady=10, sticky=S+E+W)\n",
    "    "
   ]
  },
  {
   "cell_type": "code",
   "execution_count": 23,
   "id": "6fd79f2f-9979-4d94-97aa-1f2bac772648",
   "metadata": {},
   "outputs": [],
   "source": [
    "if __name__ == \"__main__\":\n",
    "  root = Tk()\n",
    "  setup_ui(root)\n",
    "  root.mainloop()"
   ]
  },
  {
   "cell_type": "code",
   "execution_count": null,
   "id": "8b8ed049-a1e3-48ed-8113-bbd036002faa",
   "metadata": {},
   "outputs": [],
   "source": []
  },
  {
   "cell_type": "code",
   "execution_count": null,
   "id": "9ca7c75c-0b87-4264-830f-9ae6e39a6ed4",
   "metadata": {},
   "outputs": [],
   "source": []
  }
 ],
 "metadata": {
  "kernelspec": {
   "display_name": "Python 3 (ipykernel)",
   "language": "python",
   "name": "python3"
  },
  "language_info": {
   "codemirror_mode": {
    "name": "ipython",
    "version": 3
   },
   "file_extension": ".py",
   "mimetype": "text/x-python",
   "name": "python",
   "nbconvert_exporter": "python",
   "pygments_lexer": "ipython3",
   "version": "3.11.5"
  }
 },
 "nbformat": 4,
 "nbformat_minor": 5
}
