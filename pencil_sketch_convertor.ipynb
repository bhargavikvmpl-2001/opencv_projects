{
 "cells": [
  {
   "cell_type": "code",
   "execution_count": 1,
   "id": "d248dc5d-1762-4531-a1b5-76342605f132",
   "metadata": {},
   "outputs": [],
   "source": [
    "# Import necessary libraries\n",
    "import os\n",
    "import cv2\n",
    "import numpy as np\n",
    "import tkinter as tk\n",
    "from tkinter import filedialog\n",
    "from tkinter import messagebox\n",
    "from PIL import Image, ImageTk"
   ]
  },
  {
   "cell_type": "code",
   "execution_count": 2,
   "id": "6cb2fb94-c013-4ba3-8304-3362bdcedc40",
   "metadata": {},
   "outputs": [],
   "source": [
    "images = {\"original\": None, \"sketch\": None}"
   ]
  },
  {
   "cell_type": "code",
   "execution_count": 3,
   "id": "5aeaeff5-dbc5-432b-b6e5-37be061c1570",
   "metadata": {},
   "outputs": [],
   "source": [
    "def open_file():\n",
    "    filepath = filedialog.askopenfilename()\n",
    "    if not filepath:\n",
    "        return\n",
    "    img = cv2.imread(filepath)\n",
    "    display_image(img, original=True)\n",
    "    sketch_img = convert_to_sketch(img)\n",
    "    display_image(sketch_img, original=False)\n",
    "\n",
    "\n",
    "def convert_to_sketch(img):\n",
    "    gray_img = cv2.cvtColor(img, cv2.COLOR_BGR2GRAY)\n",
    "    inverted_img = cv2.bitwise_not(gray_img)\n",
    "    blurred_img = cv2.GaussianBlur(inverted_img, (21, 21), sigmaX=0, sigmaY=0)\n",
    "    inverted_blur_img = cv2.bitwise_not(blurred_img)\n",
    "    sketch_img = cv2.divide(gray_img, inverted_blur_img, scale=256.0)\n",
    "    return sketch_img\n",
    "\n",
    "\n",
    "def display_image(img, original):\n",
    "    img_rgb = cv2.cvtColor(img, cv2.COLOR_BGR2RGB) if original else img\n",
    "    img_pil = Image.fromarray(img_rgb)\n",
    "    img_tk = ImageTk.PhotoImage(image=img_pil)\n",
    "\n",
    "    # Store the PIL image in the dictionary\n",
    "    if original:\n",
    "        images[\"original\"] = img_pil\n",
    "    else:\n",
    "        images[\"sketch\"] = img_pil\n",
    "\n",
    "    label = original_image_label if original else sketch_image_label\n",
    "    label.config(image=img_tk)\n",
    "    label.image = img_tk\n",
    "\n",
    "\n",
    "def save_sketch():\n",
    "    if images[\"sketch\"] is None:\n",
    "        messagebox.showerror(\"Error\", \"No sketch to save.\")\n",
    "        return\n",
    "\n",
    "    sketch_filepath = filedialog.asksaveasfilename(defaultextension=\".png\", filetypes=[(\"PNG files\", \"*.png\")])\n",
    "    if not sketch_filepath:\n",
    "        return\n",
    "\n",
    "    # Save the PIL image (sketch) to the file\n",
    "    images[\"sketch\"].save(sketch_filepath, \"PNG\")\n",
    "    messagebox.showinfo(\"Saved\", \"Sketch saved to {}\".format(sketch_filepath))\n"
   ]
  },
  {
   "cell_type": "code",
   "execution_count": 6,
   "id": "f579e6b8-9ec0-4738-93fc-7912d7a9cf4c",
   "metadata": {},
   "outputs": [],
   "source": [
    "app = tk.Tk()\n",
    "app.title('Pencil Sketch Converter')\n",
    "\n",
    "frame = tk.Frame(app)\n",
    "frame.pack(pady=10, padx=10)\n",
    "\n",
    "original_image_label = tk.Label(frame)\n",
    "original_image_label.grid(row=0, column=0, padx=5, pady=5)\n",
    "sketch_image_label = tk.Label(frame)\n",
    "sketch_image_label.grid(row=0, column=1, padx=5, pady=5)\n",
    "\n",
    "btn_frame = tk.Frame(app)\n",
    "btn_frame.pack(pady=10)\n",
    "\n",
    "open_button = tk.Button(btn_frame, text=\"Open Image\", command=open_file)\n",
    "open_button.grid(row=0, column=0, padx=5)\n",
    "\n",
    "save_button = tk.Button(btn_frame, text=\"Save Sketch\", command=save_sketch)\n",
    "save_button.grid(row=0, column=1, padx=5)\n",
    "\n",
    "app.mainloop()"
   ]
  },
  {
   "cell_type": "code",
   "execution_count": null,
   "id": "348fd478-a52b-4430-9780-7ca7b51dd155",
   "metadata": {},
   "outputs": [],
   "source": []
  }
 ],
 "metadata": {
  "kernelspec": {
   "display_name": "Python 3 (ipykernel)",
   "language": "python",
   "name": "python3"
  },
  "language_info": {
   "codemirror_mode": {
    "name": "ipython",
    "version": 3
   },
   "file_extension": ".py",
   "mimetype": "text/x-python",
   "name": "python",
   "nbconvert_exporter": "python",
   "pygments_lexer": "ipython3",
   "version": "3.11.5"
  }
 },
 "nbformat": 4,
 "nbformat_minor": 5
}
